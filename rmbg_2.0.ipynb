{
  "nbformat": 4,
  "nbformat_minor": 0,
  "metadata": {
    "colab": {
      "provenance": [],
      "gpuType": "T4"
    },
    "kernelspec": {
      "name": "python3",
      "display_name": "Python 3"
    },
    "language_info": {
      "name": "python"
    },
    "accelerator": "GPU"
  },
  "cells": [
    {
      "cell_type": "markdown",
      "source": [
        "**Note**:<br>\n",
        "  RMBG v2.0 is available as a source-available model for non-commercial use.<br>\n",
        "  Developed by: [BRIA AI](https://bria.ai/) <br> HuggingFace model page: [RMBG-2.0 Model](https://huggingface.co/briaai/RMBG-2.0) <br>License: [bria-rmbg-2.0](https://bria.ai/bria-huggingface-model-license-agreement/)\n",
        "  * The model is released under a Creative Commons license for non-commercial use.\n",
        "  * Commercial use is subject to a commercial agreement with BRIA. Contact BRIA AI for more information."
      ],
      "metadata": {
        "id": "SZ8EFnXKaSvf"
      }
    },
    {
      "cell_type": "code",
      "execution_count": null,
      "metadata": {
        "cellView": "form",
        "id": "PZh9TvdnYNMY"
      },
      "outputs": [],
      "source": [
        "#@title Install and Restart Session\n",
        "!git clone https://github.com/NeuralFalconYT/BRIA-RMBG-2.0-WebUI.git\n",
        "%cd /content/BRIA-RMBG-2.0-WebUI\n",
        "!pip install -r requirements.txt\n",
        "# !pip uninstall torch torchvision -y\n",
        "# !pip install torch torchvision  --index-url https://download.pytorch.org/whl/cu121\n",
        "# !sudo apt install ffmpeg -y\n",
        "from IPython.display import clear_output\n",
        "clear_output()\n",
        "import time\n",
        "time.sleep(5)\n",
        "import os\n",
        "os.kill(os.getpid(), 9)"
      ]
    },
    {
      "cell_type": "code",
      "source": [
        "%cd /content/BRIA-RMBG-2.0-WebUI\n",
        "!python app.py --debug --share"
      ],
      "metadata": {
        "id": "H8BdUeRDYbQh"
      },
      "execution_count": null,
      "outputs": []
    }
  ]
}